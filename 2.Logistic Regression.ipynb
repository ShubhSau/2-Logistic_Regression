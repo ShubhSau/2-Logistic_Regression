{
 "cells": [
  {
   "cell_type": "markdown",
   "id": "274ffba7-78a6-42be-9bc2-24b15b28a316",
   "metadata": {},
   "source": [
    "Q1. What is the purpose of grid search cv in machine learning, and how does it work?"
   ]
  },
  {
   "cell_type": "markdown",
   "id": "b2abacd7-29f0-4dc4-b0ac-bb27cadb377f",
   "metadata": {},
   "source": [
    "## Grid Search CV:\n",
    "\n",
    "GridSearchCV is the process of performing hyperparameter tuning in order to determine the optimal values for a given model. As mentioned above, the performance of a model significantly depends on the value of hyperparameters. Note that there is no way to know in advance the best values for hyperparameters so ideally, we need to try all possible values to know the optimal values.\n",
    "\n",
    "GridSearchCV is a function that comes in Scikit-learn’s(or SK-learn) model_selection package.\n",
    "\n",
    "## Purpose of Grid Search CV:\n",
    "\n",
    "GridSearchCV is a technique for finding the optimal parameter values from a given set of parameters in a grid. It’s essentially a cross-validation technique. The model as well as the parameters must be entered. After extracting the best parameter values, predictions are made.\n",
    "\n",
    "## How does GridSearchCV work?\n",
    "\n",
    "we pass predefined values for hyperparameters to the GridSearchCV function. We do this by defining a dictionary in which we mention a particular hyperparameter along with the values it can take. Here is an example of it\n",
    "\n",
    "        param_grid = {\n",
    "    'C': [0.1, 1, 10],              # Regularization parameter\n",
    "    'kernel': ['linear', 'rbf'],    # Kernel type for SVM\n",
    "    'gamma': [0.01, 0.1, 1]         # Kernel coefficient for 'rbf'\n",
    "    }\n",
    "\n",
    "Here C, gamma and kernels are some of the hyperparameters of an SVM model. Note that the rest of the hyperparameters will be set to their default values\n",
    "\n",
    "GridSearchCV tries all the combinations of the values passed in the dictionary and evaluates the model for each combination using the Cross-Validation method. Hence after using this function we get accuracy/loss for every combination of hyperparameters and we can choose the one with the best performance."
   ]
  },
  {
   "cell_type": "markdown",
   "id": "98c9dc12-01c1-4700-888c-3cb2ffa6ec71",
   "metadata": {},
   "source": [
    "Q2. Describe the difference between grid search cv and randomize search cv, and when might you choose one over the other?"
   ]
  },
  {
   "cell_type": "markdown",
   "id": "5821f812-bd30-4eb2-948d-7586f9be76e2",
   "metadata": {},
   "source": [
    "## Difference between GridSearchCV and RandomizedSearchCV:\n",
    "\n",
    "In Grid Search, we try every combination of a preset list of values of the hyper-parameters and choose the best combination based on the cross-validation score.\n",
    "\n",
    "Random search tries random combinations of a range of values (we have to define the number iterations). It is good at testing a wide range of values and normally it reaches a very good combination very fast, but the problem that it doesn’t guarantee to give the best parameter combination.\n",
    "\n",
    "On the other hand, Grid search will give the best combination but it can take a lot of time.\n",
    "\n",
    "The choice between Grid Search CV and Randomized Search CV depends on the specific problem, the size of the hyperparameter space, and the available computational resources. Grid Search is a safe and exhaustive option when resources allow, while Randomized Search is a more efficient choice when you need to balance exploration with computational limitations and still want to find good hyperparameters."
   ]
  },
  {
   "cell_type": "markdown",
   "id": "cf84c834-5d9e-495e-a920-e0c6442da67e",
   "metadata": {},
   "source": [
    "Q3. What is data leakage, and why is it a problem in machine learning? Provide an example."
   ]
  },
  {
   "cell_type": "markdown",
   "id": "e24def46-1636-49ed-9228-61c84351e953",
   "metadata": {},
   "source": [
    "## Data Leakage:\n",
    "\n",
    "Data Leakage is the scenario where the Machine Learning Model is already aware of some part of test data after training.This causes the problem of overfitting.\n",
    "\n",
    "In Machine learning, Data Leakage refers to a mistake that is made by the creator of a machine learning model in which they accidentally share the information between the test and training data sets. Typically, when splitting a data set into testing and training sets, the goal is to ensure that no data is shared between these two sets. Ideally, there is no intersection between these two sets.\n",
    "\n",
    "- It a problem in machine learning because due to the Data leakage, we got unrealistically high levels of performance of our model on the test set, because that model is being run on data that it had already seen in some capacity in the training set. The model effectively memorizes the training set data and is easily able to correctly output the labels or values for those examples of the test dataset. Clearly, this is not ideal, as it misleads the person who evaluates the model. When such a model is then used on truly unseen data that is coming mostly on the production side, then the performance of that model will be much lower than expected after deployment.\n",
    "\n",
    "Example:-\n",
    "\n",
    "To understand this example, firstly we have to understand the difference between “Target Variable” and “Features” in Machine learning.\n",
    "\n",
    "    - Target variable: The Output which the model is trying to predict.\n",
    "    - Features: The data used by the model to predict the target variable.\n",
    "    \n",
    "The most obvious and easy-to-understand cause of data leakage is to include the target variable as a feature. What happens is that after including the target variable as a feature, our purpose of prediction got destroyed. This is likely to be done by mistake but while modelling any ML model, you have to make sure that the target variable is differentiated from the set of features."
   ]
  },
  {
   "cell_type": "markdown",
   "id": "1959e151-1923-481c-8305-f4d40f25fdfb",
   "metadata": {},
   "source": [
    "Q4. How can you prevent data leakage when building a machine learning model?"
   ]
  },
  {
   "cell_type": "markdown",
   "id": "c6195410-5bb9-430c-aa4c-21bf5b8daa63",
   "metadata": {},
   "source": [
    "Data leakage problems can be severe for any model prediction, but we can prevent data leakage using tips and tricks.\n",
    "\n",
    "- Extract the appropriate set of features\n",
    "- Add an individual validation set.\n",
    "- Apply data pre-processing separately to both data sets\n",
    "- Time-series data\n",
    "- Cross-validation\n",
    "\n",
    "1. Extract the appropriate set of features:\n",
    "To extract the appropriate set of features, we must ensure that the given features are not overlapped with the given target variable, or there should not be any interaction between both.\n",
    "\n",
    "2. Add an individual validation set:\n",
    "By adding a validation set to both training and test data sets. Further, the validation set also helps identify the overfitting, which acts as a caution warning when deploying predictive models.\n",
    "\n",
    "3. Apply data pre-processing separately to both data sets:\n",
    "When working with neural networks, generally, the input data is normalized before introducing into the model. In general, data normalization is done by dividing the data by its mean value, and then it is applied to entire data sets. This results in the overlapping of training data sets with test data sets, which causes data leakage issues in the model.\n",
    "\n",
    "4. Time-series data:\n",
    "When working with time series data, make sure to maintain chronological order in your dataset.\n",
    "Do not use future data to predict past events, and avoid using lagged target variables as features.\n",
    "\n",
    "5. Cross-validation:\n",
    "If you use cross-validation for model evaluation and hyperparameter tuning, make sure that each fold preserves the temporal or logical order of the data.\n",
    "Be cautious when using time series cross-validation techniques that maintain temporal order."
   ]
  },
  {
   "cell_type": "markdown",
   "id": "97baa5be-830a-4f5b-a762-8d6a5e4b7680",
   "metadata": {},
   "source": [
    "Q5. What is a confusion matrix, and what does it tell you about the performance of a classification model?"
   ]
  },
  {
   "cell_type": "markdown",
   "id": "8af3a3d6-7bcd-4d39-ad44-200376d0e01f",
   "metadata": {},
   "source": [
    "## Confusion Matrix:\n",
    "\n",
    "A confusion matrix is a tabular representation that is commonly used to evaluate the performance of a classification model, especially in binary classification tasks. It provides a clear and detailed breakdown of the model's predictions and their correspondence to the actual outcomes.\n",
    "\n",
    "A confusion matrix typically consists of four values:\n",
    "\n",
    "True Positives (TP): The number of instances that the model correctly predicted as the positive class.\n",
    "\n",
    "True Negatives (TN): The number of instances that the model correctly predicted as the negative class.\n",
    "\n",
    "False Positives (FP): The number of instances that the model incorrectly predicted as the positive class (Type I error).\n",
    "\n",
    "False Negatives (FN): The number of instances that the model incorrectly predicted as the negative class (Type II error).\n",
    "\n",
    "Here's how a confusion matrix is usually organized:\n",
    "\n",
    "```\n",
    "                Predicted Negative    Predicted Positive\n",
    "Actual Negative        TN                   FP\n",
    "Actual Positive        FN                   TP\n",
    "```\n",
    "\n",
    "Now, let's discuss what a confusion matrix tells you about the performance of a classification model:\n",
    "\n",
    "1. Accuracy: \n",
    "Accuracy is the proportion of correctly classified instances out of the total number of instances. It is calculated as (TP + TN) / (TP + TN + FP + FN).\n",
    "It measures the overall correctness of the model's predictions but may not be sufficient when dealing with imbalanced datasets.\n",
    "\n",
    "2. Precision (Positive Predictive Value): \n",
    "Precision measures the accuracy of positive predictions made by the model. It is calculated as TP / (TP + FP). \n",
    "High precision indicates a low rate of false positives.\n",
    "\n",
    "3. Recall (Sensitivity or True Positive Rate): \n",
    "Recall measures the ability of the model to correctly identify positive instances. It is calculated as TP / (TP + FN).\n",
    "High recall indicates a low rate of false negatives.\n",
    "\n",
    "4. Specificity (True Negative Rate): \n",
    "Specificity measures the ability of the model to correctly identify negative instances. It is calculated as TN / (TN + FP). \n",
    "High specificity indicates a low rate of false positives in the negative class.\n",
    "\n",
    "5. F1-Score: \n",
    "The F1-Score is the harmonic mean of precision and recall and provides a balance between the two metrics. It is calculated as 2 * (Precision * Recall) / (Precision + Recall).\n",
    "\n",
    "6. False Positive Rate (FPR): \n",
    "FPR measures the proportion of actual negative instances that were incorrectly classified as positive. It is calculated as FP / (TN + FP).\n",
    "\n",
    "7. False Negative Rate (FNR): \n",
    "FNR measures the proportion of actual positive instances that were incorrectly classified as negative. It is calculated as FN / (TP + FN).\n"
   ]
  },
  {
   "cell_type": "markdown",
   "id": "add0d290-95f0-477d-97dc-b18cf31e3fc1",
   "metadata": {},
   "source": [
    "Q6. Explain the difference between precision and recall in the context of a confusion matrix."
   ]
  },
  {
   "cell_type": "markdown",
   "id": "cdf69ddd-c7d7-442e-96dd-12a9bfae22a0",
   "metadata": {},
   "source": [
    "Precision and recall are two important metrics used to evaluate the performance of a classification model, and they are typically derived from the values in the confusion matrix. They focus on different aspects of a model's performance, especially in binary classification tasks.\n",
    "\n",
    "Here's the difference between precision and recall:\n",
    "\n",
    "1. Precision:\n",
    "   - Precision measures the accuracy of positive predictions made by the model, specifically the proportion of true positive predictions (correctly predicted positive instances) out of all positive predictions (true positives plus false positives).\n",
    "   - Precision answers the question: \"Of all the instances that the model predicted as positive, how many were actually positive?\"\n",
    "   - It is calculated as: Precision = TP / (TP + FP)\n",
    "   \n",
    "2. Recall (also known as Sensitivity or True Positive Rate):\n",
    "   - Recall measures the ability of the model to correctly identify positive instances, specifically the proportion of true positive predictions (correctly predicted positive instances) out of all actual positive instances (true positives plus false negatives).\n",
    "   - Recall answers the question: \"Of all the actual positive instances, how many did the model correctly identify?\"\n",
    "   - It is calculated as: Recall = TP / (TP + FN)\n"
   ]
  },
  {
   "cell_type": "markdown",
   "id": "1c729406-e131-47a9-b292-a7eba2dc43aa",
   "metadata": {},
   "source": [
    "Q7. How can you interpret a confusion matrix to determine which types of errors your model is making?"
   ]
  },
  {
   "cell_type": "markdown",
   "id": "91d42606-a614-4799-8175-625a50008e57",
   "metadata": {},
   "source": [
    "Interpreting a confusion matrix allows you to understand the types of errors your classification model is making and gain insights into its performance. A confusion matrix breaks down the model's predictions into four categories: true positives (TP), true negatives (TN), false positives (FP), and false negatives (FN). Here's how you can interpret a confusion matrix to identify the types of errors:\n",
    "\n",
    "True Positives (TP): The number of instances that the model correctly predicted as the positive class.\n",
    "\n",
    "True Negatives (TN): The number of instances that the model correctly predicted as the negative class.\n",
    "\n",
    "False Positives (FP): The number of instances that the model incorrectly predicted as the positive class (Type I error).\n",
    "\n",
    "False Negatives (FN): The number of instances that the model incorrectly predicted as the negative class (Type II error).\n",
    "\n",
    "\n",
    "Interpreting Error Types:\n",
    "\n",
    "- False Positives (FP):\n",
    "   - FP errors are instances where the model incorrectly predicted a positive outcome. These are cases where the model falsely \"cries wolf\" when it shouldn't have.\n",
    "   - Examples: A spam filter classifying a legitimate email as spam or a medical test falsely indicating the presence of a disease when it's not there.\n",
    "\n",
    "- False Negatives (FN):\n",
    "   - FN errors are instances where the model incorrectly predicted a negative outcome. These are cases where the model fails to identify a positive outcome when it should have.\n",
    "   - Examples: A fraud detection system failing to identify a fraudulent transaction or a medical test failing to detect a disease when it's present.\n",
    "\n",
    "Analyzing these error types helps you understand the strengths and weaknesses of your model:\n",
    "\n",
    "- High FP Rate (Low Precision):\n",
    "   - If you have a high number of false positives, your model's precision is low, indicating that it often predicts the positive class incorrectly. You may need to adjust the model to reduce false positives.\n",
    "\n",
    "- High FN Rate (Low Recall):\n",
    "   - If you have a high number of false negatives, your model's recall is low, indicating that it often misses positive cases. You may need to adjust the model to improve recall.\n",
    "\n",
    "- Balancing Precision and Recall:\n",
    "   - Depending on your problem and priorities, you may need to balance precision and recall. Reducing false positives typically increases recall but lowers precision, and vice versa. The choice depends on the costs associated with each type of error."
   ]
  },
  {
   "cell_type": "markdown",
   "id": "312426ee-cf62-4a7e-af45-c48128eee9d7",
   "metadata": {},
   "source": [
    "Q8. What are some common metrics that can be derived from a confusion matrix, and how are they calculated?"
   ]
  },
  {
   "cell_type": "markdown",
   "id": "96a7f64e-849b-494a-abea-d3b537991f8d",
   "metadata": {},
   "source": [
    "Common metrics that can be derived from a confusion matrix include:\n",
    "\n",
    "1. Accuracy: \n",
    "Accuracy is the proportion of correctly classified instances out of the total number of instances.\n",
    "It is calculated as (TP + TN) / (TP + TN + FP + FN).\n",
    "It measures the overall correctness of the model's predictions but may not be sufficient when dealing with imbalanced datasets.\n",
    "\n",
    "2. Precision (Positive Predictive Value): \n",
    "Precision measures the accuracy of positive predictions made by the model. \n",
    "It is calculated as TP / (TP + FP). \n",
    "High precision indicates a low rate of false positives.\n",
    "\n",
    "3. Recall (Sensitivity or True Positive Rate): \n",
    "Recall measures the ability of the model to correctly identify positive instances.\n",
    "It is calculated as TP / (TP + FN).\n",
    "High recall indicates a low rate of false negatives.\n",
    "\n",
    "4. Specificity (True Negative Rate): \n",
    "Specificity measures the ability of the model to correctly identify negative instances.\n",
    "It is calculated as TN / (TN + FP). \n",
    "High specificity indicates a low rate of false positives in the negative class.\n",
    "\n",
    "5. F1-Score: \n",
    "The F1-Score is the harmonic mean of precision and recall and provides a balance between the two metrics. \n",
    "It is calculated as 2 * (Precision * Recall) / (Precision + Recall).\n",
    "\n",
    "6. False Positive Rate (FPR): \n",
    "FPR measures the proportion of actual negative instances that were incorrectly classified as positive. \n",
    "It is calculated as FP / (TN + FP).\n",
    "\n",
    "7. False Negative Rate (FNR): \n",
    "FNR measures the proportion of actual positive instances that were incorrectly classified as negative. \n",
    "It is calculated as FN / (TP + FN)."
   ]
  },
  {
   "cell_type": "markdown",
   "id": "1ee9b307-efda-4e04-b366-a266faf69d97",
   "metadata": {},
   "source": [
    "Q9. What is the relationship between the accuracy of a model and the values in its confusion matrix?"
   ]
  },
  {
   "cell_type": "markdown",
   "id": "bed2c04d-3c96-441d-9c8c-6515bfa9107b",
   "metadata": {},
   "source": [
    "Accuracy is calculated as the proportion of correctly classified instances (both true positives and true negatives) out of the total number of instances:\n",
    "\n",
    "        Accuracy = (TP + TN) / (TP + TN + FP + FN)\n",
    "        \n",
    "True Positives (TP): The number of instances that the model correctly predicted as the positive class.\n",
    "\n",
    "True Negatives (TN): The number of instances that the model correctly predicted as the negative class.\n",
    "\n",
    "False Positives (FP): The number of instances that the model incorrectly predicted as the positive class (Type I error).\n",
    "\n",
    "False Negatives (FN): The number of instances that the model incorrectly predicted as the negative class (Type II error).\n",
    "\n",
    "## Relationship Between Accuracy and Confusion Matrix Values:\n",
    "\n",
    "--> High Accuracy:\n",
    "\n",
    "When a model has high accuracy, it means that a large proportion of its predictions are correct, both for the positive and negative classes.\n",
    "This implies that there are relatively few false positives (FP) and false negatives (FN) in the confusion matrix.\n",
    "\n",
    "--> Low Accuracy:\n",
    "\n",
    "When a model has low accuracy, it means that a significant proportion of its predictions are incorrect.\n",
    "This implies that there are a relatively high number of false positives (FP) and false negatives (FN) in the confusion matrix."
   ]
  },
  {
   "cell_type": "markdown",
   "id": "3c424733-d1b9-4324-803c-c4b2ff4b1f47",
   "metadata": {},
   "source": [
    "Q10. How can you use a confusion matrix to identify potential biases or limitations in your machine learning\n",
    "model?"
   ]
  },
  {
   "cell_type": "markdown",
   "id": "fc58e002-8d2b-44bb-a3e3-8beafd3f2b0b",
   "metadata": {},
   "source": [
    "A confusion matrix can be a valuable tool for identifying potential biases or limitations in your machine learning model, especially when it comes to understanding how the model performs across different classes or groups within your dataset.\n",
    "\n",
    "Here's how you can use a confusion matrix to uncover biases or limitations:\n",
    "\n",
    "1. Class Imbalance:\n",
    "Check if there is a significant class imbalance in your dataset, where one class greatly outnumbers the other.\n",
    "Look at the confusion matrix to see if the model is disproportionately making errors on the minority class. If so, this could indicate a bias towards the majority class.\n",
    "\n",
    "2. Bias Towards Negatives or Positives:\n",
    "Determine if the model exhibits a bias toward predicting one class (either positive or negative) more frequently.\n",
    "Analyze the false positive (FP) and false negative (FN) rates in the confusion matrix. If one type of error is significantly higher than the other, it may indicate a bias towards the corresponding class.\n",
    "\n",
    "3. Threshold Effects:\n",
    "Experiment with different classification thresholds (the probability or score at which an instance is classified as positive or negative).\n",
    "By adjusting the threshold, you can observe how the model's performance changes, especially regarding precision and recall. Biases may become more evident at specific thresholds.\n",
    "\n",
    "4. Visual Inspection:\n",
    "Visualize the confusion matrix or related metrics to help you quickly identify patterns or imbalances in the model's predictions.\n",
    "Heatmaps and color-coded matrices can make it easier to spot areas of concern.\n",
    "\n",
    "5. Addressing Bias:\n",
    "If you identify bias or limitations, consider strategies for addressing them, such as re-sampling, re-weighting, or using bias-mitigation techniques.\n",
    "Also, document any steps taken to address bias and communicate them transparently."
   ]
  },
  {
   "cell_type": "code",
   "execution_count": null,
   "id": "94b16154-6237-4697-839d-1f5e8b3408da",
   "metadata": {},
   "outputs": [],
   "source": []
  }
 ],
 "metadata": {
  "kernelspec": {
   "display_name": "Python 3 (ipykernel)",
   "language": "python",
   "name": "python3"
  },
  "language_info": {
   "codemirror_mode": {
    "name": "ipython",
    "version": 3
   },
   "file_extension": ".py",
   "mimetype": "text/x-python",
   "name": "python",
   "nbconvert_exporter": "python",
   "pygments_lexer": "ipython3",
   "version": "3.10.8"
  }
 },
 "nbformat": 4,
 "nbformat_minor": 5
}
